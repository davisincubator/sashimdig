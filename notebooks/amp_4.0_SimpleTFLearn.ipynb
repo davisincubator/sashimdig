{
 "cells": [
  {
   "cell_type": "code",
   "execution_count": 1,
   "metadata": {
    "collapsed": false
   },
   "outputs": [
    {
     "name": "stderr",
     "output_type": "stream",
     "text": [
      "Using TensorFlow backend.\n"
     ]
    }
   ],
   "source": [
    "#import tflearn packages\n",
    "\n",
    "import tflearn\n",
    "from tflearn.layers.core import input_data, dropout, fully_connected\n",
    "from tflearn.layers.conv import conv_2d, max_pool_2d\n",
    "from tflearn.layers.normalization import local_response_normalization\n",
    "from tflearn.layers.estimator import regression\n",
    "\n",
    "import tensorflow as tf\n",
    "\n",
    "from tflearn.data_utils import shuffle\n",
    "from tflearn.layers.core import input_data, dropout, fully_connected\n",
    "from tflearn.layers.conv import conv_2d, max_pool_2d\n",
    "from tflearn.layers.estimator import regression\n",
    "from tflearn.data_preprocessing import ImagePreprocessing\n",
    "from tflearn.data_augmentation import ImageAugmentation\n",
    "\n",
    "#import other packages\n",
    "import pandas as pd\n",
    "import sklearn\n",
    "import os\n",
    "import numpy as np\n",
    "from PIL import Image\n",
    "import matplotlib.pyplot as plt\n",
    "from skimage import measure\n",
    "%matplotlib inline\n",
    "\n",
    "from keras.utils import np_utils\n",
    "\n",
    "import os\n",
    "from os import getcwd\n",
    "from os import listdir\n",
    "from os.path import isfile, join, isdir\n",
    "\n",
    "import skimage\n",
    "from skimage import measure\n",
    "from skimage import io\n",
    "from sklearn.model_selection import train_test_split\n",
    "from sklearn.metrics import log_loss\n",
    "from sklearn.preprocessing import LabelEncoder\n",
    "from skimage.transform import resize"
   ]
  },
  {
   "cell_type": "code",
   "execution_count": 2,
   "metadata": {
    "collapsed": false
   },
   "outputs": [
    {
     "data": {
      "text/plain": [
       "[]"
      ]
     },
     "execution_count": 2,
     "metadata": {},
     "output_type": "execute_result"
    }
   ],
   "source": [
    "#randomly choose a subset of training images to make it run faster\n",
    "\n",
    "#import images\n",
    "\n",
    "def get_paths(foldNames):\n",
    "  \n",
    "    paths = dict.fromkeys(foldNames)\n",
    "\n",
    "    for idx,g in enumerate(foldNames):\n",
    "        fileNames = [f for f in listdir(join(trainPath,g)) if isfile(join(trainPath,g, f))]\n",
    "        for i,f in enumerate(fileNames):\n",
    "            fileNames[i] = join(trainPath,g,f)     \n",
    "        paths[g] = fileNames\n",
    "        \n",
    "    return paths\n",
    "\n",
    "trainPath = '../data/raw/train'\n",
    "testPath = '../data/raw/test_stg1'\n",
    "fish_classes = [f for f in listdir(trainPath) if isdir(join(trainPath, f))]\n",
    "groupData = pd.DataFrame ({'group': fish_classes})\n",
    "fish_paths = get_paths(fish_classes)\n",
    "\n",
    "keys_to_remove = [key for key, value in fish_paths.iteritems()\n",
    "                  if '.DS_Store' in value]\n",
    "\n",
    "for key in keys_to_remove:\n",
    "    del fish_paths[key]\n",
    "    \n",
    "#for key, item in fish_paths:\n",
    "#    if \".DS_Store\" in item:\n",
    "#       del fish_paths[key]\n",
    "        \n",
    "keys_to_remove        \n",
    "#this I did to print the paths to make sure I understand the dictionary\n",
    "#n = 1\n",
    "#for k,v in fish_paths.items():\n",
    "#    if '.DS_Store' in v:\n",
    "#        print(k, v)\n",
    "#    if n == 1:\n",
    "#        print(v)\n",
    "#        n = 2"
   ]
  },
  {
   "cell_type": "code",
   "execution_count": 3,
   "metadata": {
    "collapsed": false
   },
   "outputs": [
    {
     "name": "stdout",
     "output_type": "stream",
     "text": [
      "[0]\n"
     ]
    }
   ],
   "source": [
    "#label images by directory\n",
    "\n",
    "for idx,fish in enumerate(fish_classes):\n",
    "    groupData.ix[idx,'num files'] = int(len(fish_paths[fish]))\n",
    "    \n",
    "files = []\n",
    "Y_cat = []\n",
    "\n",
    "for fish in fish_classes:\n",
    "    fish_files = fish_paths[fish]\n",
    "    files.extend(fish_files)\n",
    "    \n",
    "    y_fish = np.tile(fish, len(fish_files))\n",
    "    Y_cat.extend(y_fish)\n",
    "\n",
    "\n",
    "is_to_remove = [i for i in range(0,len(files))\n",
    "                  if '.DS_Store' in files[i]]\n",
    "\n",
    "print(is_to_remove)\n",
    "\n",
    "for i in is_to_remove:\n",
    "    del files[i]\n",
    "    del Y_cat[i]\n",
    "        \n",
    "Y_cat = np.array(Y_cat) \n",
    "\n"
   ]
  },
  {
   "cell_type": "code",
   "execution_count": 4,
   "metadata": {
    "collapsed": false
   },
   "outputs": [],
   "source": [
    "#downsample images\n",
    "def read_image(src):\n",
    "    \"\"\"Read and resize individual images\"\"\"\n",
    "    im = io.imread(src)\n",
    "    im = resize(im, (ROWS, COLS))\n",
    "    return im\n",
    "\n",
    "ROWS = 90  #90 720\n",
    "COLS = 160 #160 1280\n",
    "CHANNELS = 3\n",
    "\n",
    "X_all = np.ndarray((len(files), ROWS, COLS, CHANNELS), dtype=np.uint8)"
   ]
  },
  {
   "cell_type": "code",
   "execution_count": 5,
   "metadata": {
    "collapsed": false
   },
   "outputs": [
    {
     "name": "stdout",
     "output_type": "stream",
     "text": [
      "Processed 0 of 3777\n",
      "Processed 1000 of 3777\n",
      "Processed 2000 of 3777\n",
      "Processed 3000 of 3777\n"
     ]
    },
    {
     "data": {
      "image/png": "[encoded data removed]",
      "text/plain": [
       "<matplotlib.figure.Figure at 0x1045670d0>"
      ]
     },
     "metadata": {},
     "output_type": "display_data"
    }
   ],
   "source": [
    "for i, f in enumerate(files): \n",
    "    im = read_image(f)\n",
    "    X_all[i] = im\n",
    "    if i%1000 == 0: print('Processed {} of {}'.format(i, len(files)))\n",
    "\n",
    "##view example image\n",
    "image = X_all[0]\n",
    "plt.figure(figsize=(5, 5))\n",
    "plt.imshow(im, cmap='gray', interpolation='nearest')\n",
    "plt.axis('off')\n",
    "plt.tight_layout()\n",
    "plt.show()"
   ]
  },
  {
   "cell_type": "code",
   "execution_count": 6,
   "metadata": {
    "collapsed": true
   },
   "outputs": [],
   "source": [
    "#split into train and test for cross-validation\n",
    "# One Hot Encoding Labels\n",
    "#    Transform the categorical array Y_all into matrix of the same height, \n",
    "#    but with a boolean column for each category.\n",
    "Y_all = LabelEncoder().fit_transform(Y_cat)\n",
    "Y_all = np_utils.to_categorical(Y_all)\n",
    "\n",
    "# test_size: between 0 and 1. proportion of the dataset to include in the test split\n",
    "# random_state: Pseudo-random number generator state used for random sampling. How to shoose this?\n",
    "# stratify: this is ensuring that the split datasets are balanced, i.e. contains the same \n",
    "# percentage of classes\n",
    "\n",
    "X_train, X_valid, Y_train, Y_valid = train_test_split(X_all, Y_all, \n",
    "                                                    test_size=0.2, random_state=23, \n",
    "                                                    stratify=Y_all)"
   ]
  },
  {
   "cell_type": "code",
   "execution_count": 7,
   "metadata": {
    "collapsed": false
   },
   "outputs": [],
   "source": [
    "#build a simple CNN\n",
    "\n",
    "def dnn_test1():\n",
    "    #needed to run this tensorflow operation in order to build the network and subsequently \n",
    "    #create the model, multiple times. Rebuilding without resetting the tf.Graph object produces\n",
    "    #errors. Could also get around this issue by restarting kernel, but that's annoying.\n",
    "    with tf.Graph().as_default():\n",
    "        \n",
    "        #input layer with shape of data specified. In this case, dimensions of our images, \n",
    "        #rows X cols X rgb array. The initial 'None' is for an unknown dimension reflecting the \n",
    "        #\"number of samples that are processed in a batch\"\n",
    "        \n",
    "        # Building convolutional network\n",
    "\n",
    "        net = input_data(shape=[None, ROWS, COLS, 3])\n",
    "        net = conv_2d(net, 32, 3, activation='relu', regularizer=\"L2\")\n",
    "        net = max_pool_2d(net, 2)\n",
    "        net = local_response_normalization(net)\n",
    "        net = conv_2d(net, 64, 3, activation='relu', regularizer=\"L2\")\n",
    "        net = max_pool_2d(net, 2)\n",
    "        net = local_response_normalization(net)\n",
    "        net = fully_connected(net, 72, activation='relu')\n",
    "        net = fully_connected(net, 8, activation='softmax')\n",
    "        net = regression(net)\n",
    "        return tflearn.DNN(net)"
   ]
  },
  {
   "cell_type": "code",
   "execution_count": 8,
   "metadata": {
    "collapsed": false
   },
   "outputs": [
    {
     "name": "stdout",
     "output_type": "stream",
     "text": [
      "Training Step: 1889  | total loss: \u001b[1m\u001b[32m0.02090\u001b[0m\u001b[0m | time: 110.684s\n",
      "| Adam | epoch: 010 | loss: 0.02090 - acc: 0.9957 -- iter: 3008/3021\n",
      "Training Step: 1890  | total loss: \u001b[1m\u001b[32m0.01888\u001b[0m\u001b[0m | time: 120.798s\n",
      "| Adam | epoch: 010 | loss: 0.01888 - acc: 0.9961 | val_loss: 0.23799 - val_acc: 0.9458 -- iter: 3021/3021\n",
      "--\n"
     ]
    }
   ],
   "source": [
    "#test on subset of training images you didn't use; if it works well could do a full train:test and submit\n",
    "# Define model\n",
    "model = dnn_test1()\n",
    "\n",
    "# Start training (apply gradient descent algorithm). Will want to specify multiple epochs \n",
    "# typically unless just testing\n",
    "model.fit(X_train, Y_train, n_epoch=10,\n",
    "          show_metric=True, batch_size=16, validation_set = (X_valid, Y_valid))\n",
    "\n",
    "#started running at 12:22 PM \n",
    "\n",
    "#model predict"
   ]
  },
  {
   "cell_type": "code",
   "execution_count": 8,
   "metadata": {
    "collapsed": false
   },
   "outputs": [],
   "source": [
    "def dnn_test2():\n",
    "    #needed to run this tensorflow operation in order to build the network and subsequently \n",
    "    #create the model, multiple times. Rebuilding without resetting the tf.Graph object produces\n",
    "    #errors. Could also get around this issue by restarting kernel, but that's annoying.\n",
    "    with tf.Graph().as_default():\n",
    "        \n",
    "        #input layer with shape of data specified. In this case, dimensions of our images, \n",
    "        #rows X cols X rgb array. The initial 'None' is for an unknown dimension reflecting the \n",
    "        #\"number of samples that are processed in a batch\"\n",
    "        \n",
    "        # Building convolutional network\n",
    "\n",
    "        network = input_data(shape=[None, ROWS, COLS, 3])\n",
    "        network = conv_2d(network, 32, 3, activation='relu', regularizer=\"L2\")\n",
    "        network = max_pool_2d(network, 2)\n",
    "        network = local_response_normalization(network)\n",
    "        network = conv_2d(network, 64, 3, activation='relu', regularizer=\"L2\")\n",
    "        network = max_pool_2d(network, 2)\n",
    "        network = local_response_normalization(network)\n",
    "        network = fully_connected(network, 128, activation='tanh')\n",
    "        network = dropout(network, 0.8)\n",
    "        network = fully_connected(network, 256, activation='tanh')\n",
    "        network = dropout(network, 0.8)\n",
    "        network = fully_connected(network, 8, activation='softmax')\n",
    "        network = regression(network, optimizer='adam', learning_rate=0.01,\n",
    "                loss='categorical_crossentropy', name='target')\n",
    "        return tflearn.DNN(network)"
   ]
  },
  {
   "cell_type": "code",
   "execution_count": 9,
   "metadata": {
    "collapsed": true
   },
   "outputs": [],
   "source": [
    "# read in test photo set\n",
    "test_files = [im for im in os.listdir(testPath)]\n",
    "test = np.ndarray((len(test_files), ROWS, COLS, CHANNELS), dtype=np.uint8)\n",
    "for i, im in enumerate(test_files): \n",
    "    test[i] = read_image(join(testPath,im))\n",
    "\n",
    "    "
   ]
  },
  {
   "cell_type": "code",
   "execution_count": 10,
   "metadata": {
    "collapsed": false
   },
   "outputs": [
    {
     "data": {
      "text/html": [
       "<div style=\"max-height:1000px;max-width:1500px;overflow:auto;\">\n",
       "<table border=\"1\" class=\"dataframe\">\n",
       "  <thead>\n",
       "    <tr style=\"text-align: right;\">\n",
       "      <th></th>\n",
       "      <th>image</th>\n",
       "      <th>ALB</th>\n",
       "      <th>BET</th>\n",
       "      <th>DOL</th>\n",
       "      <th>LAG</th>\n",
       "      <th>NoF</th>\n",
       "      <th>OTHER</th>\n",
       "      <th>SHARK</th>\n",
       "      <th>YFT</th>\n",
       "    </tr>\n",
       "  </thead>\n",
       "  <tbody>\n",
       "    <tr>\n",
       "      <th>0</th>\n",
       "      <td> img_00005.jpg</td>\n",
       "      <td> 0.000031</td>\n",
       "      <td> 0.000001</td>\n",
       "      <td> 9.354110e-06</td>\n",
       "      <td> 2.424570e-06</td>\n",
       "      <td> 0.999876</td>\n",
       "      <td> 0.000077</td>\n",
       "      <td> 3.615401e-06</td>\n",
       "      <td> 0.000001</td>\n",
       "    </tr>\n",
       "    <tr>\n",
       "      <th>1</th>\n",
       "      <td> img_00007.jpg</td>\n",
       "      <td> 0.780536</td>\n",
       "      <td> 0.055396</td>\n",
       "      <td> 9.879785e-06</td>\n",
       "      <td> 4.948371e-02</td>\n",
       "      <td> 0.000030</td>\n",
       "      <td> 0.103886</td>\n",
       "      <td> 1.111986e-07</td>\n",
       "      <td> 0.010659</td>\n",
       "    </tr>\n",
       "    <tr>\n",
       "      <th>2</th>\n",
       "      <td> img_00009.jpg</td>\n",
       "      <td> 0.991227</td>\n",
       "      <td> 0.000073</td>\n",
       "      <td> 2.366462e-06</td>\n",
       "      <td> 2.067438e-06</td>\n",
       "      <td> 0.008317</td>\n",
       "      <td> 0.000360</td>\n",
       "      <td> 1.740540e-05</td>\n",
       "      <td> 0.000001</td>\n",
       "    </tr>\n",
       "    <tr>\n",
       "      <th>3</th>\n",
       "      <td> img_00018.jpg</td>\n",
       "      <td> 0.999169</td>\n",
       "      <td> 0.000003</td>\n",
       "      <td> 2.164374e-07</td>\n",
       "      <td> 7.743190e-08</td>\n",
       "      <td> 0.000000</td>\n",
       "      <td> 0.000002</td>\n",
       "      <td> 6.335633e-11</td>\n",
       "      <td> 0.000826</td>\n",
       "    </tr>\n",
       "    <tr>\n",
       "      <th>4</th>\n",
       "      <td> img_00027.jpg</td>\n",
       "      <td> 0.993407</td>\n",
       "      <td> 0.000001</td>\n",
       "      <td> 3.311636e-08</td>\n",
       "      <td> 9.881232e-08</td>\n",
       "      <td> 0.000005</td>\n",
       "      <td> 0.003091</td>\n",
       "      <td> 8.242127e-07</td>\n",
       "      <td> 0.003495</td>\n",
       "    </tr>\n",
       "  </tbody>\n",
       "</table>\n",
       "</div>"
      ],
      "text/plain": [
       "           image       ALB       BET           DOL           LAG       NoF  \\\n",
       "0  img_00005.jpg  0.000031  0.000001  9.354110e-06  2.424570e-06  0.999876   \n",
       "1  img_00007.jpg  0.780536  0.055396  9.879785e-06  4.948371e-02  0.000030   \n",
       "2  img_00009.jpg  0.991227  0.000073  2.366462e-06  2.067438e-06  0.008317   \n",
       "3  img_00018.jpg  0.999169  0.000003  2.164374e-07  7.743190e-08  0.000000   \n",
       "4  img_00027.jpg  0.993407  0.000001  3.311636e-08  9.881232e-08  0.000005   \n",
       "\n",
       "      OTHER         SHARK       YFT  \n",
       "0  0.000077  3.615401e-06  0.000001  \n",
       "1  0.103886  1.111986e-07  0.010659  \n",
       "2  0.000360  1.740540e-05  0.000001  \n",
       "3  0.000002  6.335633e-11  0.000826  \n",
       "4  0.003091  8.242127e-07  0.003495  "
      ]
     },
     "execution_count": 10,
     "metadata": {},
     "output_type": "execute_result"
    }
   ],
   "source": [
    "#model predict\n",
    "\n",
    "test_preds1 = model.predict(test)\n",
    "\n",
    "submission = pd.DataFrame(test_preds1, columns=fish_classes)\n",
    "submission.insert(0, 'image', test_files)\n",
    "submission.head()"
   ]
  },
  {
   "cell_type": "code",
   "execution_count": 11,
   "metadata": {
    "collapsed": true
   },
   "outputs": [],
   "source": [
    "submission.to_csv('../data/processed/tflearn/submission_170219.csv')"
   ]
  },
  {
   "cell_type": "code",
   "execution_count": 15,
   "metadata": {
    "collapsed": false
   },
   "outputs": [
    {
     "name": "stdout",
     "output_type": "stream",
     "text": [
      "Training Step: 188  | total loss: \u001b[1m\u001b[32m1.75847\u001b[0m\u001b[0m | time: 147.236s\n",
      "| Adam | epoch: 001 | loss: 1.75847 - acc: 0.3769 -- iter: 3008/3021\n",
      "Training Step: 189  | total loss: \u001b[1m\u001b[32m1.69012\u001b[0m\u001b[0m | time: 147.937s\n",
      "| Adam | epoch: 001 | loss: 1.69012 - acc: 0.3954 -- iter: 3021/3021\n",
      "--\n"
     ]
    }
   ],
   "source": [
    "#test on subset of training images you didn't use; if it works well could do a full train:test and submit\n",
    "# Define model\n",
    "model2 = dnn_test2()\n",
    "\n",
    "# Start training (apply gradient descent algorithm). Will want to specify multiple epochs \n",
    "# typically unless just testing\n",
    "model2.fit(X_train, Y_train, n_epoch=10,\n",
    "          show_metric=True, batch_size=16)\n",
    "\n",
    "#model predict\n",
    "\n",
    "test_preds2 = model2.predict(test)"
   ]
  },
  {
   "cell_type": "code",
   "execution_count": 16,
   "metadata": {
    "collapsed": false
   },
   "outputs": [],
   "source": [
    "submission2 = pd.DataFrame(test_preds2, columns=fish_classes)\n",
    "submission2.insert(0, 'image', test_files)\n",
    "submission2.head()\n",
    "submission2.to_csv('../data/processed/tflearn/submission_170218_7.csv')"
   ]
  },
  {
   "cell_type": "code",
   "execution_count": 17,
   "metadata": {
    "collapsed": false
   },
   "outputs": [
    {
     "data": {
      "text/html": [
       "<div style=\"max-height:1000px;max-width:1500px;overflow:auto;\">\n",
       "<table border=\"1\" class=\"dataframe\">\n",
       "  <thead>\n",
       "    <tr style=\"text-align: right;\">\n",
       "      <th></th>\n",
       "      <th>image</th>\n",
       "      <th>ALB</th>\n",
       "      <th>BET</th>\n",
       "      <th>DOL</th>\n",
       "      <th>LAG</th>\n",
       "      <th>NoF</th>\n",
       "      <th>OTHER</th>\n",
       "      <th>SHARK</th>\n",
       "      <th>YFT</th>\n",
       "    </tr>\n",
       "  </thead>\n",
       "  <tbody>\n",
       "    <tr>\n",
       "      <th>0</th>\n",
       "      <td> img_00005.jpg</td>\n",
       "      <td> 0.091461</td>\n",
       "      <td> 0.041506</td>\n",
       "      <td> 0.028659</td>\n",
       "      <td> 0.000908</td>\n",
       "      <td> 0.123104</td>\n",
       "      <td> 0.208644</td>\n",
       "      <td> 0.001035</td>\n",
       "      <td> 0.504683</td>\n",
       "    </tr>\n",
       "    <tr>\n",
       "      <th>1</th>\n",
       "      <td> img_00007.jpg</td>\n",
       "      <td> 0.541459</td>\n",
       "      <td> 0.052419</td>\n",
       "      <td> 0.000953</td>\n",
       "      <td> 0.000832</td>\n",
       "      <td> 0.098846</td>\n",
       "      <td> 0.150791</td>\n",
       "      <td> 0.000143</td>\n",
       "      <td> 0.154558</td>\n",
       "    </tr>\n",
       "    <tr>\n",
       "      <th>2</th>\n",
       "      <td> img_00009.jpg</td>\n",
       "      <td> 0.542919</td>\n",
       "      <td> 0.054159</td>\n",
       "      <td> 0.000893</td>\n",
       "      <td> 0.000935</td>\n",
       "      <td> 0.123039</td>\n",
       "      <td> 0.143450</td>\n",
       "      <td> 0.000173</td>\n",
       "      <td> 0.134432</td>\n",
       "    </tr>\n",
       "    <tr>\n",
       "      <th>3</th>\n",
       "      <td> img_00018.jpg</td>\n",
       "      <td> 0.564140</td>\n",
       "      <td> 0.046599</td>\n",
       "      <td> 0.000851</td>\n",
       "      <td> 0.000693</td>\n",
       "      <td> 0.092821</td>\n",
       "      <td> 0.136568</td>\n",
       "      <td> 0.000134</td>\n",
       "      <td> 0.158193</td>\n",
       "    </tr>\n",
       "    <tr>\n",
       "      <th>4</th>\n",
       "      <td> img_00027.jpg</td>\n",
       "      <td> 0.088694</td>\n",
       "      <td> 0.034055</td>\n",
       "      <td> 0.022211</td>\n",
       "      <td> 0.000557</td>\n",
       "      <td> 0.082027</td>\n",
       "      <td> 0.155033</td>\n",
       "      <td> 0.000866</td>\n",
       "      <td> 0.616557</td>\n",
       "    </tr>\n",
       "  </tbody>\n",
       "</table>\n",
       "</div>"
      ],
      "text/plain": [
       "           image       ALB       BET       DOL       LAG       NoF     OTHER  \\\n",
       "0  img_00005.jpg  0.091461  0.041506  0.028659  0.000908  0.123104  0.208644   \n",
       "1  img_00007.jpg  0.541459  0.052419  0.000953  0.000832  0.098846  0.150791   \n",
       "2  img_00009.jpg  0.542919  0.054159  0.000893  0.000935  0.123039  0.143450   \n",
       "3  img_00018.jpg  0.564140  0.046599  0.000851  0.000693  0.092821  0.136568   \n",
       "4  img_00027.jpg  0.088694  0.034055  0.022211  0.000557  0.082027  0.155033   \n",
       "\n",
       "      SHARK       YFT  \n",
       "0  0.001035  0.504683  \n",
       "1  0.000143  0.154558  \n",
       "2  0.000173  0.134432  \n",
       "3  0.000134  0.158193  \n",
       "4  0.000866  0.616557  "
      ]
     },
     "execution_count": 17,
     "metadata": {},
     "output_type": "execute_result"
    }
   ],
   "source": [
    "submission2.head()"
   ]
  },
  {
   "cell_type": "code",
   "execution_count": null,
   "metadata": {
    "collapsed": true
   },
   "outputs": [],
   "source": [
    "###hmm, it looks like the two NNs are outputting the exact same thing? is this working?"
   ]
  }
 ],
 "metadata": {
  "kernelspec": {
   "display_name": "Python 2",
   "language": "python",
   "name": "python2"
  },
  "language_info": {
   "codemirror_mode": {
    "name": "ipython",
    "version": 2
   },
   "file_extension": ".py",
   "mimetype": "text/x-python",
   "name": "python",
   "nbconvert_exporter": "python",
   "pygments_lexer": "ipython2",
   "version": "2.7.12"
  }
 },
 "nbformat": 4,
 "nbformat_minor": 1
}
